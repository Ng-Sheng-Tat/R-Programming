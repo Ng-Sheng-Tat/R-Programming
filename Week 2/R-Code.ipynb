{
 "cells": [
  {
   "cell_type": "markdown",
   "id": "4014314e",
   "metadata": {},
   "source": [
    "### Week 2: Control Structure\n",
    "1. if, else\n",
    "2. for\n",
    "3. while\n",
    "4. repeat\n",
    "5. break\n",
    "6. next\n",
    "7. return"
   ]
  },
  {
   "cell_type": "markdown",
   "id": "6599a6e1",
   "metadata": {},
   "source": [
    "### If-else"
   ]
  },
  {
   "cell_type": "code",
   "execution_count": 3,
   "id": "ebbd85b7",
   "metadata": {
    "collapsed": true
   },
   "outputs": [
    {
     "name": "stdout",
     "output_type": "stream",
     "text": [
      "[1] \"x is equal to 5\"\n"
     ]
    }
   ],
   "source": [
    "x = 5\n",
    "if (x>5) {\n",
    "    print(\"x is greater than 5\")\n",
    "} else if ( x<5) {\n",
    "    print(\"x is smaller than 5\")\n",
    "} else {\n",
    "    print(\"x is equal to 5\")\n",
    "}"
   ]
  },
  {
   "cell_type": "markdown",
   "id": "47f1565f",
   "metadata": {},
   "source": [
    "### For loops"
   ]
  },
  {
   "cell_type": "code",
   "execution_count": 4,
   "id": "efff48c7",
   "metadata": {
    "collapsed": true
   },
   "outputs": [
    {
     "name": "stdout",
     "output_type": "stream",
     "text": [
      "[1] 1\n",
      "[1] 2\n",
      "[1] 3\n",
      "[1] 4\n",
      "[1] 5\n"
     ]
    }
   ],
   "source": [
    "for (i in 1:5) {\n",
    "    print(i)\n",
    "}"
   ]
  },
  {
   "cell_type": "code",
   "execution_count": 10,
   "id": "9fb7c527",
   "metadata": {
    "collapsed": true
   },
   "outputs": [
    {
     "name": "stdout",
     "output_type": "stream",
     "text": [
      "[1] \"a\"\n",
      "[1] \"b\"\n",
      "[1] \"c\"\n",
      "[1] \"d\"\n",
      "[1] \"\"\n",
      "[1] \"a\"\n",
      "[1] \"b\"\n",
      "[1] \"c\"\n",
      "[1] \"d\"\n"
     ]
    },
    {
     "ename": "ERROR",
     "evalue": "Error in print.default(): argument \"x\" is missing, with no default\n",
     "output_type": "error",
     "traceback": [
      "Error in print.default(): argument \"x\" is missing, with no default\nTraceback:\n",
      "1. print()",
      "2. print.default()"
     ]
    }
   ],
   "source": [
    "x = c(\"a\", \"b\", \"c\", \"d\")\n",
    "for (y in x) {\n",
    "    print(y)\n",
    "}\n",
    "\n",
    "print(\"\")\n",
    "\n",
    "for (z in seq_along(x)) {\n",
    "    print(x[z])\n",
    "}\n",
    "\n",
    "print(\"\")\n",
    "\n",
    "# short hand for statement\n",
    "for (i in x) print(i)"
   ]
  },
  {
   "cell_type": "code",
   "execution_count": 15,
   "id": "95091a88",
   "metadata": {
    "collapsed": true
   },
   "outputs": [
    {
     "name": "stdout",
     "output_type": "stream",
     "text": [
      "[1] 1\n",
      "[1] 3\n",
      "[1] 5\n",
      "[1] 2\n",
      "[1] 4\n",
      "[1] 6\n"
     ]
    }
   ],
   "source": [
    "# Nested loops\n",
    "x = matrix(1:6, nrow=2, ncol=3)\n",
    "# print(x)\n",
    "\n",
    "for (i in seq_len(nrow(x))) {\n",
    "    for (j in seq_len(ncol(x))) {\n",
    "        print(x[i, j])\n",
    "    }\n",
    "}\n"
   ]
  },
  {
   "cell_type": "markdown",
   "id": "1a6b50fa",
   "metadata": {},
   "source": [
    "### While Loops"
   ]
  },
  {
   "cell_type": "code",
   "execution_count": 16,
   "id": "70671399",
   "metadata": {
    "collapsed": true
   },
   "outputs": [
    {
     "name": "stdout",
     "output_type": "stream",
     "text": [
      "[1] 0\n",
      "[1] 1\n",
      "[1] 2\n",
      "[1] 3\n",
      "[1] 4\n",
      "[1] 5\n"
     ]
    }
   ],
   "source": [
    "count <- 0\n",
    "while (count <= 5) {\n",
    "    print(count)\n",
    "    count = count + 1\n",
    "}"
   ]
  },
  {
   "cell_type": "markdown",
   "id": "fddc3525",
   "metadata": {},
   "source": [
    "### Repeat statement\n",
    "- initiates an infinite loop until break statement occurs"
   ]
  },
  {
   "cell_type": "code",
   "execution_count": 18,
   "id": "e8464ac6",
   "metadata": {
    "collapsed": true
   },
   "outputs": [
    {
     "name": "stdout",
     "output_type": "stream",
     "text": [
      "[1] 0\n",
      "[1] 1\n",
      "[1] 2\n",
      "[1] 3\n",
      "[1] 4\n",
      "[1] 5\n"
     ]
    }
   ],
   "source": [
    "count <- 0\n",
    "repeat {\n",
    "    print(count)\n",
    "    count = count + 1\n",
    "    if (count >= 5) {\n",
    "        print(count)\n",
    "        break\n",
    "    }\n",
    "}"
   ]
  },
  {
   "cell_type": "markdown",
   "id": "375a4651",
   "metadata": {},
   "source": [
    "### Next statement\n",
    "- it is used to skip an iteration of a loop"
   ]
  },
  {
   "cell_type": "code",
   "execution_count": 1,
   "id": "691a6daa",
   "metadata": {
    "collapsed": true
   },
   "outputs": [
    {
     "name": "stdout",
     "output_type": "stream",
     "text": [
      "[1] 0\n",
      "[1] 1\n",
      "[1] 2\n",
      "[1] \"\"\n",
      "[1] 3\n",
      "[1] 4\n",
      "[1] 5\n"
     ]
    }
   ],
   "source": [
    "count <- 0\n",
    "repeat {\n",
    "    print(count)\n",
    "    count = count + 1\n",
    "    if (count == 3) {\n",
    "        print(\"\")\n",
    "        next\n",
    "    } else if (count > 5) {\n",
    "        break\n",
    "    }\n",
    "}"
   ]
  },
  {
   "cell_type": "markdown",
   "id": "83d58703",
   "metadata": {},
   "source": [
    "### return statement\n",
    "- it signals that a function exit and return a value"
   ]
  },
  {
   "cell_type": "markdown",
   "id": "7e7528db",
   "metadata": {},
   "source": [
    "### Functions\n",
    "- you have to match the sequence for the argument, else need to specify which is for which for each of the argument\n",
    "- specifying ``NULL`` for default argument is a programming convention as well"
   ]
  },
  {
   "cell_type": "code",
   "execution_count": 21,
   "id": "4c8741aa",
   "metadata": {},
   "outputs": [],
   "source": [
    "summation <- function(x, y, z=5) {\n",
    "    return (x + y + z)\n",
    "    # alternatively just x + y + z\n",
    "}"
   ]
  },
  {
   "cell_type": "code",
   "execution_count": 22,
   "id": "a9312da1",
   "metadata": {},
   "outputs": [
    {
     "name": "stdout",
     "output_type": "stream",
     "text": [
      "[1] 13\n"
     ]
    },
    {
     "data": {
      "text/html": [
       "<pre class=language-r><code>function (x, y, z = 5) \n",
       "NULL</code></pre>"
      ],
      "text/latex": [
       "\\begin{minted}{r}\n",
       "function (x, y, z = 5) \n",
       "NULL\n",
       "\\end{minted}"
      ],
      "text/markdown": [
       "```r\n",
       "function (x, y, z = 5) \n",
       "NULL\n",
       "```"
      ],
      "text/plain": [
       "function (x, y, z = 5) \n",
       "NULL"
      ]
     },
     "metadata": {},
     "output_type": "display_data"
    }
   ],
   "source": [
    "a = summation(1,2,10)\n",
    "print(a)\n",
    "# printing out the total argument needed\n",
    "args(summation)"
   ]
  },
  {
   "cell_type": "code",
   "execution_count": 8,
   "id": "981c359d",
   "metadata": {},
   "outputs": [],
   "source": [
    "# default value is 8\n",
    "filterany <- function(x, n=8) {\n",
    "    logicarray <- x > n\n",
    "    x[logicarray]\n",
    "}"
   ]
  },
  {
   "cell_type": "code",
   "execution_count": 9,
   "id": "ed5000c7",
   "metadata": {},
   "outputs": [
    {
     "data": {
      "text/html": [
       "<ol class=list-inline>\n",
       "\t<li>6</li>\n",
       "\t<li>7</li>\n",
       "\t<li>8</li>\n",
       "\t<li>9</li>\n",
       "\t<li>10</li>\n",
       "\t<li>11</li>\n",
       "\t<li>12</li>\n",
       "\t<li>13</li>\n",
       "\t<li>14</li>\n",
       "\t<li>15</li>\n",
       "\t<li>16</li>\n",
       "\t<li>17</li>\n",
       "\t<li>18</li>\n",
       "\t<li>19</li>\n",
       "\t<li>20</li>\n",
       "</ol>\n"
      ],
      "text/latex": [
       "\\begin{enumerate*}\n",
       "\\item 6\n",
       "\\item 7\n",
       "\\item 8\n",
       "\\item 9\n",
       "\\item 10\n",
       "\\item 11\n",
       "\\item 12\n",
       "\\item 13\n",
       "\\item 14\n",
       "\\item 15\n",
       "\\item 16\n",
       "\\item 17\n",
       "\\item 18\n",
       "\\item 19\n",
       "\\item 20\n",
       "\\end{enumerate*}\n"
      ],
      "text/markdown": [
       "1. 6\n",
       "2. 7\n",
       "3. 8\n",
       "4. 9\n",
       "5. 10\n",
       "6. 11\n",
       "7. 12\n",
       "8. 13\n",
       "9. 14\n",
       "10. 15\n",
       "11. 16\n",
       "12. 17\n",
       "13. 18\n",
       "14. 19\n",
       "15. 20\n",
       "\n",
       "\n"
      ],
      "text/plain": [
       " [1]  6  7  8  9 10 11 12 13 14 15 16 17 18 19 20"
      ]
     },
     "metadata": {},
     "output_type": "display_data"
    },
    {
     "data": {
      "text/html": [
       "<ol class=list-inline>\n",
       "\t<li>9</li>\n",
       "\t<li>10</li>\n",
       "\t<li>11</li>\n",
       "\t<li>12</li>\n",
       "\t<li>13</li>\n",
       "\t<li>14</li>\n",
       "\t<li>15</li>\n",
       "\t<li>16</li>\n",
       "\t<li>17</li>\n",
       "\t<li>18</li>\n",
       "\t<li>19</li>\n",
       "\t<li>20</li>\n",
       "</ol>\n"
      ],
      "text/latex": [
       "\\begin{enumerate*}\n",
       "\\item 9\n",
       "\\item 10\n",
       "\\item 11\n",
       "\\item 12\n",
       "\\item 13\n",
       "\\item 14\n",
       "\\item 15\n",
       "\\item 16\n",
       "\\item 17\n",
       "\\item 18\n",
       "\\item 19\n",
       "\\item 20\n",
       "\\end{enumerate*}\n"
      ],
      "text/markdown": [
       "1. 9\n",
       "2. 10\n",
       "3. 11\n",
       "4. 12\n",
       "5. 13\n",
       "6. 14\n",
       "7. 15\n",
       "8. 16\n",
       "9. 17\n",
       "10. 18\n",
       "11. 19\n",
       "12. 20\n",
       "\n",
       "\n"
      ],
      "text/plain": [
       " [1]  9 10 11 12 13 14 15 16 17 18 19 20"
      ]
     },
     "metadata": {},
     "output_type": "display_data"
    }
   ],
   "source": [
    "myarray = 1:20\n",
    "filterany(myarray, 5)\n",
    "filterany(myarray)"
   ]
  },
  {
   "cell_type": "markdown",
   "id": "2c6c55b8",
   "metadata": {},
   "source": [
    "### The \"...\" Argument\n",
    "- The ... argument indicates a variable number of arguments that are usually passed on to other functions\n",
    "- ... is often used when extending another function and you do not wnat to copy the enture argument list of the original function\n",
    "- generic functions use ... so that extra arguments can be passed to methods (more on this later)\n",
    "- The ... argument is also necessary when the number of arguments passed to the function cannnot be known in advance. \n",
    "- arguments that come after the ... argument must be named explicitly and cannot be partially matched\n",
    "- you can define function inside another function which is not possible n many other programming language\n",
    "- **Lexical Scoping** is ultilized in R Programming"
   ]
  },
  {
   "cell_type": "code",
   "execution_count": 23,
   "id": "2000a381",
   "metadata": {},
   "outputs": [],
   "source": [
    "myplot <- function(x, y, type=\"l\", ...) {\n",
    "    plot(x, y, type=type, ...)\n",
    "}"
   ]
  },
  {
   "cell_type": "code",
   "execution_count": 24,
   "id": "39ae0807",
   "metadata": {
    "collapsed": true
   },
   "outputs": [
    {
     "data": {
      "text/html": [
       "<pre class=language-r><code>function (x, ...) \n",
       "UseMethod(\"mean\")</code></pre>"
      ],
      "text/latex": [
       "\\begin{minted}{r}\n",
       "function (x, ...) \n",
       "UseMethod(\"mean\")\n",
       "\\end{minted}"
      ],
      "text/markdown": [
       "```r\n",
       "function (x, ...) \n",
       "UseMethod(\"mean\")\n",
       "```"
      ],
      "text/plain": [
       "function (x, ...) \n",
       "UseMethod(\"mean\")\n",
       "<bytecode: 0x0000000004a2e2b8>\n",
       "<environment: namespace:base>"
      ]
     },
     "metadata": {},
     "output_type": "display_data"
    }
   ],
   "source": [
    "mean"
   ]
  },
  {
   "cell_type": "code",
   "execution_count": 25,
   "id": "ae5c0793",
   "metadata": {
    "collapsed": true
   },
   "outputs": [
    {
     "data": {
      "text/html": [
       "<pre class=language-r><code>function (x, y, type = \"l\", ...) \n",
       "{\n",
       "<span style=white-space:pre-wrap>    plot(x, y, type = type, ...)</span>\n",
       "}</code></pre>"
      ],
      "text/latex": [
       "\\begin{minted}{r}\n",
       "function (x, y, type = \"l\", ...) \n",
       "\\{\n",
       "    plot(x, y, type = type, ...)\n",
       "\\}\n",
       "\\end{minted}"
      ],
      "text/markdown": [
       "```r\n",
       "function (x, y, type = \"l\", ...) \n",
       "{\n",
       "    plot(x, y, type = type, ...)\n",
       "}\n",
       "```"
      ],
      "text/plain": [
       "function(x, y, type=\"l\", ...) {\n",
       "    plot(x, y, type=type, ...)\n",
       "}"
      ]
     },
     "metadata": {},
     "output_type": "display_data"
    }
   ],
   "source": [
    "myplot"
   ]
  },
  {
   "cell_type": "code",
   "execution_count": 26,
   "id": "4ac1369d",
   "metadata": {
    "collapsed": true
   },
   "outputs": [
    {
     "data": {
      "text/html": [
       "<pre class=language-r><code>function (..., sep = \" \", collapse = NULL) \n",
       "NULL</code></pre>"
      ],
      "text/latex": [
       "\\begin{minted}{r}\n",
       "function (..., sep = \" \", collapse = NULL) \n",
       "NULL\n",
       "\\end{minted}"
      ],
      "text/markdown": [
       "```r\n",
       "function (..., sep = \" \", collapse = NULL) \n",
       "NULL\n",
       "```"
      ],
      "text/plain": [
       "function (..., sep = \" \", collapse = NULL) \n",
       "NULL"
      ]
     },
     "metadata": {},
     "output_type": "display_data"
    }
   ],
   "source": [
    "args(paste)"
   ]
  },
  {
   "cell_type": "code",
   "execution_count": 27,
   "id": "ad7f7dc3",
   "metadata": {
    "collapsed": true
   },
   "outputs": [
    {
     "data": {
      "text/html": [
       "<pre class=language-r><code>function (..., file = \"\", sep = \" \", fill = FALSE, labels = NULL, \n",
       "<span style=white-space:pre-wrap>    append = FALSE) </span>\n",
       "NULL</code></pre>"
      ],
      "text/latex": [
       "\\begin{minted}{r}\n",
       "function (..., file = \"\", sep = \" \", fill = FALSE, labels = NULL, \n",
       "    append = FALSE) \n",
       "NULL\n",
       "\\end{minted}"
      ],
      "text/markdown": [
       "```r\n",
       "function (..., file = \"\", sep = \" \", fill = FALSE, labels = NULL, \n",
       "    append = FALSE) \n",
       "NULL\n",
       "```"
      ],
      "text/plain": [
       "function (..., file = \"\", sep = \" \", fill = FALSE, labels = NULL, \n",
       "    append = FALSE) \n",
       "NULL"
      ]
     },
     "metadata": {},
     "output_type": "display_data"
    }
   ],
   "source": [
    "# you can use args as a way to refer to the documentation\n",
    "args(cat)"
   ]
  },
  {
   "cell_type": "markdown",
   "id": "622ca72c",
   "metadata": {},
   "source": [
    "### Functions Preferences\n",
    "1. Global Environment\n",
    "2. Load Packages\n",
    "- using the code ``search()``"
   ]
  },
  {
   "cell_type": "markdown",
   "id": "c90f79b6",
   "metadata": {},
   "source": [
    "### Functions inside another function (all thanks to Lexical Scoping)"
   ]
  },
  {
   "cell_type": "code",
   "execution_count": 28,
   "id": "35044fd9",
   "metadata": {},
   "outputs": [],
   "source": [
    "parentfunc <- function(n) {\n",
    "    childfunc <- function(x) {\n",
    "        x^n\n",
    "    }\n",
    "    childfunc\n",
    "}"
   ]
  },
  {
   "cell_type": "code",
   "execution_count": 29,
   "id": "0fce1292",
   "metadata": {},
   "outputs": [],
   "source": [
    "# casting the value of n\n",
    "cubefunc <- parentfunc(3)\n",
    "squarefunc <- parentfunc(2)"
   ]
  },
  {
   "cell_type": "code",
   "execution_count": 30,
   "id": "9a7bc674",
   "metadata": {
    "collapsed": true
   },
   "outputs": [
    {
     "data": {
      "text/html": [
       "125"
      ],
      "text/latex": [
       "125"
      ],
      "text/markdown": [
       "125"
      ],
      "text/plain": [
       "[1] 125"
      ]
     },
     "metadata": {},
     "output_type": "display_data"
    },
    {
     "data": {
      "text/html": [
       "25"
      ],
      "text/latex": [
       "25"
      ],
      "text/markdown": [
       "25"
      ],
      "text/plain": [
       "[1] 25"
      ]
     },
     "metadata": {},
     "output_type": "display_data"
    }
   ],
   "source": [
    "# casting the value of x\n",
    "cubefunc(5)\n",
    "squarefunc(5)"
   ]
  },
  {
   "cell_type": "code",
   "execution_count": 32,
   "id": "3fa7bb30",
   "metadata": {
    "collapsed": true
   },
   "outputs": [
    {
     "data": {
      "text/html": [
       "<pre class=language-r><code>function (x) \n",
       "NULL</code></pre>"
      ],
      "text/latex": [
       "\\begin{minted}{r}\n",
       "function (x) \n",
       "NULL\n",
       "\\end{minted}"
      ],
      "text/markdown": [
       "```r\n",
       "function (x) \n",
       "NULL\n",
       "```"
      ],
      "text/plain": [
       "function (x) \n",
       "NULL"
      ]
     },
     "metadata": {},
     "output_type": "display_data"
    },
    {
     "data": {
      "text/html": [
       "<pre class=language-r><code>function (x) \n",
       "NULL</code></pre>"
      ],
      "text/latex": [
       "\\begin{minted}{r}\n",
       "function (x) \n",
       "NULL\n",
       "\\end{minted}"
      ],
      "text/markdown": [
       "```r\n",
       "function (x) \n",
       "NULL\n",
       "```"
      ],
      "text/plain": [
       "function (x) \n",
       "NULL"
      ]
     },
     "metadata": {},
     "output_type": "display_data"
    }
   ],
   "source": [
    "args(cubefunc)\n",
    "args(squarefunc)"
   ]
  },
  {
   "cell_type": "code",
   "execution_count": 34,
   "id": "52758996",
   "metadata": {},
   "outputs": [
    {
     "data": {
      "text/html": [
       "<ol class=list-inline>\n",
       "\t<li>'childfunc'</li>\n",
       "\t<li>'n'</li>\n",
       "</ol>\n"
      ],
      "text/latex": [
       "\\begin{enumerate*}\n",
       "\\item 'childfunc'\n",
       "\\item 'n'\n",
       "\\end{enumerate*}\n"
      ],
      "text/markdown": [
       "1. 'childfunc'\n",
       "2. 'n'\n",
       "\n",
       "\n"
      ],
      "text/plain": [
       "[1] \"childfunc\" \"n\"        "
      ]
     },
     "metadata": {},
     "output_type": "display_data"
    }
   ],
   "source": [
    "# Functions environment\n",
    "ls(environment(cubefunc))"
   ]
  },
  {
   "cell_type": "code",
   "execution_count": 35,
   "id": "d73cbe23",
   "metadata": {},
   "outputs": [
    {
     "data": {
      "text/html": [
       "3"
      ],
      "text/latex": [
       "3"
      ],
      "text/markdown": [
       "3"
      ],
      "text/plain": [
       "[1] 3"
      ]
     },
     "metadata": {},
     "output_type": "display_data"
    }
   ],
   "source": [
    "get(\"n\", environment(cubefunc))"
   ]
  },
  {
   "cell_type": "markdown",
   "id": "999ed7d3",
   "metadata": {},
   "source": [
    "### Calling function inside another function (Dynamic Scoping)"
   ]
  },
  {
   "cell_type": "code",
   "execution_count": 36,
   "id": "a6a30e93",
   "metadata": {},
   "outputs": [],
   "source": [
    "g <- function(x) {\n",
    "    x ^ y\n",
    "}"
   ]
  },
  {
   "cell_type": "code",
   "execution_count": 37,
   "id": "cb6f2a9b",
   "metadata": {},
   "outputs": [],
   "source": [
    "f <- function(x) {\n",
    "    y <- 3\n",
    "    y^2 + g(x)\n",
    "}"
   ]
  },
  {
   "cell_type": "code",
   "execution_count": 38,
   "id": "e5df8cc7",
   "metadata": {
    "collapsed": true
   },
   "outputs": [
    {
     "data": {
      "text/html": [
       "9765634"
      ],
      "text/latex": [
       "9765634"
      ],
      "text/markdown": [
       "9765634"
      ],
      "text/plain": [
       "[1] 9765634"
      ]
     },
     "metadata": {},
     "output_type": "display_data"
    }
   ],
   "source": [
    "y <- 10\n",
    "f(5)"
   ]
  },
  {
   "cell_type": "markdown",
   "id": "191e2988",
   "metadata": {},
   "source": [
    "the final output will be by the operation of $3^2 + 5^{10}$\n",
    "- global variable can only be accessed by child function"
   ]
  },
  {
   "cell_type": "markdown",
   "id": "1a786733",
   "metadata": {},
   "source": [
    "### Programming Coding Standards\n",
    "1. Indent your code\n",
    "2. Uses text editor\n",
    "3. Limit width of your line of code\n",
    "4. Limit the length of individual function"
   ]
  },
  {
   "cell_type": "markdown",
   "id": "718b72e2",
   "metadata": {},
   "source": [
    "# Dates and Times in R\n",
    "- Dates are represented by *Date* class\n",
    "- Times are represented by *POSIXct* or *POSIXlt* class\n",
    "- dates and times are stored internally as number of days and seconds since 1970-01-01"
   ]
  },
  {
   "cell_type": "code",
   "execution_count": 39,
   "id": "88b917d9",
   "metadata": {},
   "outputs": [
    {
     "data": {
      "text/html": [
       "<time datetime=\"1970-01-01\">1970-01-01</time>"
      ],
      "text/latex": [
       "1970-01-01"
      ],
      "text/markdown": [
       "1970-01-01"
      ],
      "text/plain": [
       "[1] \"1970-01-01\""
      ]
     },
     "metadata": {},
     "output_type": "display_data"
    }
   ],
   "source": [
    "x <- as.Date(\"1970-01-01\")\n",
    "x"
   ]
  },
  {
   "cell_type": "code",
   "execution_count": 40,
   "id": "c41dde4a",
   "metadata": {},
   "outputs": [
    {
     "data": {
      "text/html": [
       "0"
      ],
      "text/latex": [
       "0"
      ],
      "text/markdown": [
       "0"
      ],
      "text/plain": [
       "[1] 0"
      ]
     },
     "metadata": {},
     "output_type": "display_data"
    }
   ],
   "source": [
    "unclass(x)"
   ]
  },
  {
   "cell_type": "code",
   "execution_count": 41,
   "id": "4899ee2b",
   "metadata": {},
   "outputs": [
    {
     "data": {
      "text/html": [
       "19118"
      ],
      "text/latex": [
       "19118"
      ],
      "text/markdown": [
       "19118"
      ],
      "text/plain": [
       "[1] 19118"
      ]
     },
     "metadata": {},
     "output_type": "display_data"
    }
   ],
   "source": [
    "unclass(as.Date(\"2022-05-06\"))"
   ]
  },
  {
   "cell_type": "markdown",
   "id": "4359649a",
   "metadata": {},
   "source": [
    "- *POSIXct* is a very large integer under the hood\n",
    "- *POSIXlt* is a list underneath, storing week, day of the year, month and day of the month\n",
    "### List of generic functions for dates and times\n",
    "1. ``weekdays``\n",
    "2. ``months``\n",
    "3. ``quarters``\n"
   ]
  },
  {
   "cell_type": "code",
   "execution_count": 42,
   "id": "06186235",
   "metadata": {},
   "outputs": [
    {
     "data": {
      "text/plain": [
       "[1] \"2022-05-06 12:25:50 +08\""
      ]
     },
     "metadata": {},
     "output_type": "display_data"
    }
   ],
   "source": [
    "x <- Sys.time()\n",
    "x"
   ]
  },
  {
   "cell_type": "code",
   "execution_count": 45,
   "id": "34f1e248",
   "metadata": {
    "collapsed": true
   },
   "outputs": [
    {
     "data": {
      "text/plain": [
       "[1] \"2022-05-06 12:25:50 +08\""
      ]
     },
     "metadata": {},
     "output_type": "display_data"
    },
    {
     "data": {
      "text/html": [
       "<dl>\n",
       "\t<dt>$sec</dt>\n",
       "\t\t<dd>50.4391529560089</dd>\n",
       "\t<dt>$min</dt>\n",
       "\t\t<dd>25</dd>\n",
       "\t<dt>$hour</dt>\n",
       "\t\t<dd>12</dd>\n",
       "\t<dt>$mday</dt>\n",
       "\t\t<dd>6</dd>\n",
       "\t<dt>$mon</dt>\n",
       "\t\t<dd>4</dd>\n",
       "\t<dt>$year</dt>\n",
       "\t\t<dd>122</dd>\n",
       "\t<dt>$wday</dt>\n",
       "\t\t<dd>5</dd>\n",
       "\t<dt>$yday</dt>\n",
       "\t\t<dd>125</dd>\n",
       "\t<dt>$isdst</dt>\n",
       "\t\t<dd>0</dd>\n",
       "\t<dt>$zone</dt>\n",
       "\t\t<dd>'+08'</dd>\n",
       "\t<dt>$gmtoff</dt>\n",
       "\t\t<dd>28800</dd>\n",
       "</dl>\n"
      ],
      "text/latex": [
       "\\begin{description}\n",
       "\\item[\\$sec] 50.4391529560089\n",
       "\\item[\\$min] 25\n",
       "\\item[\\$hour] 12\n",
       "\\item[\\$mday] 6\n",
       "\\item[\\$mon] 4\n",
       "\\item[\\$year] 122\n",
       "\\item[\\$wday] 5\n",
       "\\item[\\$yday] 125\n",
       "\\item[\\$isdst] 0\n",
       "\\item[\\$zone] '+08'\n",
       "\\item[\\$gmtoff] 28800\n",
       "\\end{description}\n"
      ],
      "text/markdown": [
       "$sec\n",
       ":   50.4391529560089\n",
       "$min\n",
       ":   25\n",
       "$hour\n",
       ":   12\n",
       "$mday\n",
       ":   6\n",
       "$mon\n",
       ":   4\n",
       "$year\n",
       ":   122\n",
       "$wday\n",
       ":   5\n",
       "$yday\n",
       ":   125\n",
       "$isdst\n",
       ":   0\n",
       "$zone\n",
       ":   '+08'\n",
       "$gmtoff\n",
       ":   28800\n",
       "\n",
       "\n"
      ],
      "text/plain": [
       "$sec\n",
       "[1] 50.43915\n",
       "\n",
       "$min\n",
       "[1] 25\n",
       "\n",
       "$hour\n",
       "[1] 12\n",
       "\n",
       "$mday\n",
       "[1] 6\n",
       "\n",
       "$mon\n",
       "[1] 4\n",
       "\n",
       "$year\n",
       "[1] 122\n",
       "\n",
       "$wday\n",
       "[1] 5\n",
       "\n",
       "$yday\n",
       "[1] 125\n",
       "\n",
       "$isdst\n",
       "[1] 0\n",
       "\n",
       "$zone\n",
       "[1] \"+08\"\n",
       "\n",
       "$gmtoff\n",
       "[1] 28800\n",
       "\n",
       "attr(,\"tzone\")\n",
       "[1] \"\"      \"+08\"   \"+0720\""
      ]
     },
     "metadata": {},
     "output_type": "display_data"
    },
    {
     "data": {
      "text/html": [
       "<ol class=list-inline>\n",
       "\t<li>'sec'</li>\n",
       "\t<li>'min'</li>\n",
       "\t<li>'hour'</li>\n",
       "\t<li>'mday'</li>\n",
       "\t<li>'mon'</li>\n",
       "\t<li>'year'</li>\n",
       "\t<li>'wday'</li>\n",
       "\t<li>'yday'</li>\n",
       "\t<li>'isdst'</li>\n",
       "\t<li>'zone'</li>\n",
       "\t<li>'gmtoff'</li>\n",
       "</ol>\n"
      ],
      "text/latex": [
       "\\begin{enumerate*}\n",
       "\\item 'sec'\n",
       "\\item 'min'\n",
       "\\item 'hour'\n",
       "\\item 'mday'\n",
       "\\item 'mon'\n",
       "\\item 'year'\n",
       "\\item 'wday'\n",
       "\\item 'yday'\n",
       "\\item 'isdst'\n",
       "\\item 'zone'\n",
       "\\item 'gmtoff'\n",
       "\\end{enumerate*}\n"
      ],
      "text/markdown": [
       "1. 'sec'\n",
       "2. 'min'\n",
       "3. 'hour'\n",
       "4. 'mday'\n",
       "5. 'mon'\n",
       "6. 'year'\n",
       "7. 'wday'\n",
       "8. 'yday'\n",
       "9. 'isdst'\n",
       "10. 'zone'\n",
       "11. 'gmtoff'\n",
       "\n",
       "\n"
      ],
      "text/plain": [
       " [1] \"sec\"    \"min\"    \"hour\"   \"mday\"   \"mon\"    \"year\"   \"wday\"   \"yday\"  \n",
       " [9] \"isdst\"  \"zone\"   \"gmtoff\""
      ]
     },
     "metadata": {},
     "output_type": "display_data"
    }
   ],
   "source": [
    "p <- as.POSIXlt(x)\n",
    "p\n",
    "unclass(p)\n",
    "names(unclass(p))"
   ]
  },
  {
   "cell_type": "code",
   "execution_count": 46,
   "id": "41eaf670",
   "metadata": {},
   "outputs": [
    {
     "data": {
      "text/html": [
       "122"
      ],
      "text/latex": [
       "122"
      ],
      "text/markdown": [
       "122"
      ],
      "text/plain": [
       "[1] 122"
      ]
     },
     "metadata": {},
     "output_type": "display_data"
    }
   ],
   "source": [
    "p$year"
   ]
  },
  {
   "cell_type": "code",
   "execution_count": 47,
   "id": "709fbcbb",
   "metadata": {
    "collapsed": true
   },
   "outputs": [
    {
     "data": {
      "text/plain": [
       "[1] \"2022-05-06 12:25:50 +08\""
      ]
     },
     "metadata": {},
     "output_type": "display_data"
    },
    {
     "data": {
      "text/html": [
       "1651811150.43915"
      ],
      "text/latex": [
       "1651811150.43915"
      ],
      "text/markdown": [
       "1651811150.43915"
      ],
      "text/plain": [
       "[1] 1651811150"
      ]
     },
     "metadata": {},
     "output_type": "display_data"
    },
    {
     "data": {
      "text/plain": [
       "NULL"
      ]
     },
     "metadata": {},
     "output_type": "display_data"
    }
   ],
   "source": [
    "p <- as.POSIXct(x)\n",
    "p\n",
    "unclass(p)\n",
    "names(unclass(p))"
   ]
  },
  {
   "cell_type": "code",
   "execution_count": 52,
   "id": "1208007f",
   "metadata": {},
   "outputs": [
    {
     "data": {
      "text/plain": [
       "[1] \"2012-01-10 10:40:00 +08\" \"2011-12-09 09:10:00 +08\""
      ]
     },
     "metadata": {},
     "output_type": "display_data"
    }
   ],
   "source": [
    "# ``strptime`` function allows date to be written in different format\n",
    "datestring <- c(\"January 10, 2012 10:40\", \"December 9, 2011 9:10\")\n",
    "x <- strptime(datestring, \"%B %d, %Y %H:%M\")\n",
    "x"
   ]
  },
  {
   "cell_type": "code",
   "execution_count": 53,
   "id": "8029eed8",
   "metadata": {},
   "outputs": [
    {
     "data": {
      "text/html": [
       "<ol class=list-inline>\n",
       "\t<li>'POSIXlt'</li>\n",
       "\t<li>'POSIXt'</li>\n",
       "</ol>\n"
      ],
      "text/latex": [
       "\\begin{enumerate*}\n",
       "\\item 'POSIXlt'\n",
       "\\item 'POSIXt'\n",
       "\\end{enumerate*}\n"
      ],
      "text/markdown": [
       "1. 'POSIXlt'\n",
       "2. 'POSIXt'\n",
       "\n",
       "\n"
      ],
      "text/plain": [
       "[1] \"POSIXlt\" \"POSIXt\" "
      ]
     },
     "metadata": {},
     "output_type": "display_data"
    }
   ],
   "source": [
    "class(x)"
   ]
  },
  {
   "cell_type": "markdown",
   "id": "8ef7e127",
   "metadata": {},
   "source": [
    "- arithmetic operation for date and time and comparison is possible"
   ]
  },
  {
   "cell_type": "markdown",
   "id": "800d351e",
   "metadata": {},
   "source": [
    "### Quizes"
   ]
  },
  {
   "cell_type": "code",
   "execution_count": 6,
   "id": "ebcf7875",
   "metadata": {},
   "outputs": [
    {
     "data": {
      "text/html": [
       "27"
      ],
      "text/latex": [
       "27"
      ],
      "text/markdown": [
       "27"
      ],
      "text/plain": [
       "[1] 27"
      ]
     },
     "metadata": {},
     "output_type": "display_data"
    }
   ],
   "source": [
    "cube <- function(x, n) {\n",
    "        x^3\n",
    "}\n",
    "cube(3)"
   ]
  },
  {
   "cell_type": "code",
   "execution_count": 1,
   "id": "2c757b4c",
   "metadata": {},
   "outputs": [
    {
     "name": "stderr",
     "output_type": "stream",
     "text": [
      "Warning message in if (x > 5) {:\n",
      "\"the condition has length > 1 and only the first element will be used\""
     ]
    }
   ],
   "source": [
    "x <- 1:10\n",
    "if(x > 5) {\n",
    "        x <- 0\n",
    "}"
   ]
  },
  {
   "cell_type": "code",
   "execution_count": 2,
   "id": "7a63d19d",
   "metadata": {},
   "outputs": [],
   "source": [
    "f <- function(x) {\n",
    "        g <- function(y) {\n",
    "                y + z\n",
    "        }\n",
    "        z <- 4\n",
    "        x + g(x)\n",
    "}"
   ]
  },
  {
   "cell_type": "code",
   "execution_count": 3,
   "id": "c6154bdc",
   "metadata": {},
   "outputs": [
    {
     "data": {
      "text/html": [
       "10"
      ],
      "text/latex": [
       "10"
      ],
      "text/markdown": [
       "10"
      ],
      "text/plain": [
       "[1] 10"
      ]
     },
     "metadata": {},
     "output_type": "display_data"
    }
   ],
   "source": [
    "z <- 10\n",
    "f(3)"
   ]
  },
  {
   "cell_type": "code",
   "execution_count": 4,
   "id": "796caf65",
   "metadata": {},
   "outputs": [],
   "source": [
    "x <- 5\n",
    "y <- if(x < 3) {\n",
    "        NA\n",
    "} else {\n",
    "        10\n",
    "}"
   ]
  },
  {
   "cell_type": "code",
   "execution_count": 5,
   "id": "c21e6653",
   "metadata": {},
   "outputs": [
    {
     "data": {
      "text/html": [
       "10"
      ],
      "text/latex": [
       "10"
      ],
      "text/markdown": [
       "10"
      ],
      "text/plain": [
       "[1] 10"
      ]
     },
     "metadata": {},
     "output_type": "display_data"
    }
   ],
   "source": [
    "y"
   ]
  },
  {
   "cell_type": "code",
   "execution_count": null,
   "id": "37e9f7d1",
   "metadata": {},
   "outputs": [],
   "source": []
  },
  {
   "cell_type": "code",
   "execution_count": null,
   "id": "eaa32c9c",
   "metadata": {},
   "outputs": [],
   "source": []
  },
  {
   "cell_type": "code",
   "execution_count": null,
   "id": "ec9866ec",
   "metadata": {},
   "outputs": [],
   "source": []
  },
  {
   "cell_type": "code",
   "execution_count": null,
   "id": "28e51488",
   "metadata": {},
   "outputs": [],
   "source": []
  },
  {
   "cell_type": "code",
   "execution_count": null,
   "id": "851ee30f",
   "metadata": {},
   "outputs": [],
   "source": []
  },
  {
   "cell_type": "code",
   "execution_count": null,
   "id": "be88333a",
   "metadata": {},
   "outputs": [],
   "source": []
  },
  {
   "cell_type": "code",
   "execution_count": null,
   "id": "78eb0e97",
   "metadata": {},
   "outputs": [],
   "source": []
  },
  {
   "cell_type": "code",
   "execution_count": null,
   "id": "b0b8122c",
   "metadata": {},
   "outputs": [],
   "source": []
  },
  {
   "cell_type": "code",
   "execution_count": null,
   "id": "cece9f0e",
   "metadata": {},
   "outputs": [],
   "source": []
  },
  {
   "cell_type": "code",
   "execution_count": null,
   "id": "2296b361",
   "metadata": {},
   "outputs": [],
   "source": []
  },
  {
   "cell_type": "code",
   "execution_count": null,
   "id": "53bc6e5d",
   "metadata": {},
   "outputs": [],
   "source": []
  },
  {
   "cell_type": "code",
   "execution_count": null,
   "id": "b865ca7d",
   "metadata": {},
   "outputs": [],
   "source": []
  },
  {
   "cell_type": "code",
   "execution_count": null,
   "id": "b99bccf2",
   "metadata": {},
   "outputs": [],
   "source": []
  },
  {
   "cell_type": "code",
   "execution_count": null,
   "id": "0bb331b1",
   "metadata": {},
   "outputs": [],
   "source": []
  },
  {
   "cell_type": "code",
   "execution_count": null,
   "id": "d29bbde5",
   "metadata": {},
   "outputs": [],
   "source": []
  }
 ],
 "metadata": {
  "kernelspec": {
   "display_name": "R",
   "language": "R",
   "name": "ir"
  },
  "language_info": {
   "codemirror_mode": "r",
   "file_extension": ".r",
   "mimetype": "text/x-r-source",
   "name": "R",
   "pygments_lexer": "r",
   "version": "3.6.1"
  }
 },
 "nbformat": 4,
 "nbformat_minor": 5
}
